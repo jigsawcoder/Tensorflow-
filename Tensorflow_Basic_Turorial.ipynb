{
  "nbformat": 4,
  "nbformat_minor": 0,
  "metadata": {
    "colab": {
      "name": "Tensorflow: Basic Turorial",
      "provenance": [],
      "collapsed_sections": []
    },
    "kernelspec": {
      "name": "python3",
      "display_name": "Python 3"
    }
  },
  "cells": [
    {
      "cell_type": "code",
      "metadata": {
        "id": "Rf0VpUOnZyNJ",
        "colab_type": "code",
        "outputId": "d254c09c-2d1d-4efb-be62-f74c5305369a",
        "colab": {
          "base_uri": "https://localhost:8080/",
          "height": 63
        }
      },
      "source": [
        "import tensorflow as tf"
      ],
      "execution_count": 0,
      "outputs": [
        {
          "output_type": "display_data",
          "data": {
            "text/html": [
              "<p style=\"color: red;\">\n",
              "The default version of TensorFlow in Colab will soon switch to TensorFlow 2.x.<br>\n",
              "We recommend you <a href=\"https://www.tensorflow.org/guide/migrate\" target=\"_blank\">upgrade</a> now \n",
              "or ensure your notebook will continue to use TensorFlow 1.x via the <code>%tensorflow_version 1.x</code> magic:\n",
              "<a href=\"https://colab.research.google.com/notebooks/tensorflow_version.ipynb\" target=\"_blank\">more info</a>.</p>\n"
            ],
            "text/plain": [
              "<IPython.core.display.HTML object>"
            ]
          },
          "metadata": {
            "tags": []
          }
        }
      ]
    },
    {
      "cell_type": "code",
      "metadata": {
        "id": "C6RhxyVeZ0go",
        "colab_type": "code",
        "outputId": "1c18ce43-9883-45c2-c8db-5518cc33a19e",
        "colab": {
          "base_uri": "https://localhost:8080/",
          "height": 34
        }
      },
      "source": [
        "print(tf.__version__)"
      ],
      "execution_count": 0,
      "outputs": [
        {
          "output_type": "stream",
          "text": [
            "1.15.0\n"
          ],
          "name": "stdout"
        }
      ]
    },
    {
      "cell_type": "markdown",
      "metadata": {
        "id": "pEhCjy3XbHuF",
        "colab_type": "text"
      },
      "source": [
        "### 1) Basic Maths Operations\n"
      ]
    },
    {
      "cell_type": "code",
      "metadata": {
        "id": "0kXhxOTHZ8Gk",
        "colab_type": "code",
        "colab": {}
      },
      "source": [
        "# Declaring Constants in Tensowflow \n",
        "\n",
        "x1 = tf.constant(5)   # x1=5\n",
        "x2 = tf.constant(6)   # x1=6\n",
        "x3 = tf.constant(-18) # x3=-18"
      ],
      "execution_count": 0,
      "outputs": []
    },
    {
      "cell_type": "code",
      "metadata": {
        "id": "p2N2-eYkaAdx",
        "colab_type": "code",
        "colab": {}
      },
      "source": [
        "#result = x1*x2    This will also work\n",
        "addd = tf.add(x1,x2, name=\"addd\")                   # Adds the tensors, req. parameters:2\n",
        "subb = tf.subtract(x1,x2, name=\"subb\")              # Subtracts the tensors, req. parameters:2\n",
        "multiplyy = tf.multiply(x1,x2, name=\"multiplyy\")    # Multiply the tensors, req. parameters:2\n",
        "didd = tf.divide(x1,x2, name=\"didd\")                # Divides the tensors, req. parameters:2\n",
        "addmull =  tf.add_n([x1,x2], name=\"addmull\")        # Adds multiple Tensors of similar data types\n",
        "modd = tf.math.floormod(x2,x1, name=\"modd\")         # Performs the modulo operation on similar datatype tensors ,floor(x / y) * y + mod(x, y) = x.\n",
        "abss = tf.abs(x3, name=\"abss\")                      # Computes the absolute value\n",
        "negativee = tf.negative(x3, name=\"negativee\")       # Negates the tensor\n",
        "signn = tf.sign(x3, name=\"signn\")                   # Extracts the sign from the tensor. 1 if positive and -1 if negative\n",
        "signn1 = tf.sign(x1, name=\"signn\")   \n",
        "reciprocall = tf.reciprocal(x1, name=\"reciprocall\") # Computes the reciprocals\n",
        "# This creates a tensor and will not process anything will a session is run "
      ],
      "execution_count": 0,
      "outputs": []
    },
    {
      "cell_type": "code",
      "metadata": {
        "id": "SyDwLfedaCpc",
        "colab_type": "code",
        "outputId": "00451314-1c6d-43ae-86a1-d387f689c86d",
        "colab": {
          "base_uri": "https://localhost:8080/",
          "height": 187
        }
      },
      "source": [
        "# So, to see the result, we run it in a session\n",
        "sess = tf.Session()\n",
        "print(sess.run(addd))\n",
        "print(sess.run(subb))\n",
        "print(sess.run(multiplyy))\n",
        "print(sess.run(didd))\n",
        "print(sess.run(addmull))\n",
        "print(sess.run(modd))\n",
        "print(sess.run(abss))\n",
        "print(sess.run(negativee))\n",
        "print(sess.run(signn))\n",
        "print(sess.run(signn1))\n",
        "#print(sess.run(reciprocall))\n",
        "sess.close()\n",
        "#graph = tf.get_default_graph()\n",
        "#print(graph.get_operations())"
      ],
      "execution_count": 0,
      "outputs": [
        {
          "output_type": "stream",
          "text": [
            "11\n",
            "-1\n",
            "30\n",
            "0.8333333333333334\n",
            "11\n",
            "1\n",
            "18\n",
            "18\n",
            "-1\n",
            "1\n"
          ],
          "name": "stdout"
        }
      ]
    },
    {
      "cell_type": "markdown",
      "metadata": {
        "id": "GQPtCUW-bQ5U",
        "colab_type": "text"
      },
      "source": [
        "## 2) Rounding and Comparison"
      ]
    },
    {
      "cell_type": "code",
      "metadata": {
        "id": "Z8Bp-aGobgsp",
        "colab_type": "code",
        "colab": {}
      },
      "source": [
        "x4 = tf.constant([-6.5, -3.5, 3.5, 6.5])\n",
        "x5 = tf.constant([[1,3],[7,2]])"
      ],
      "execution_count": 0,
      "outputs": []
    },
    {
      "cell_type": "code",
      "metadata": {
        "id": "xTX-_IEvbo_7",
        "colab_type": "code",
        "colab": {}
      },
      "source": [
        "roundd = tf.round(x3, name=\"roundd\")   # Round to the nearest integer. Req. Parameters:1\n",
        "rintt = tf.rint(x3, name=\"rintt\")      # Round to the nearest integer, round to even if there are two nearest integer. Req. Parameters:1\n",
        "ceill = tf.ceil(x3, name=\"ceill\")      # Returns the smallest integer greater than the value. Req. Parameters:1\n",
        "floorr = tf.ceil(x3, name=\"floorr\")    # Returns the greatest integer smaller than the value. Req. Parameters:1\n",
        "maximumm = tf.maximum(x1,x2, name=\"maximumm\")   # Returns the maximum tensor among the input tensors. Req. Parameters:2\n",
        "minimumm = tf.minimum(x1,x2, name=\"minimumm\")   # Returns the minimum tensor among the input tensors Req. Parameters:2\n",
        "argmaxx = tf.argmax(x4, name=\"argmaxx\")      # Returns the index of max element. Req. Parameters:1\n",
        "argminn = tf.argmin(x4, name=\"argminn\")      # Returns the index of min element. Req. Parameters:1\n"
      ],
      "execution_count": 0,
      "outputs": []
    },
    {
      "cell_type": "code",
      "metadata": {
        "id": "pKdruae0bsg3",
        "colab_type": "code",
        "outputId": "f2ced5ce-7d05-4a85-a852-bc9a46424711",
        "colab": {
          "base_uri": "https://localhost:8080/",
          "height": 153
        }
      },
      "source": [
        "with tf.Session() as sess:\n",
        "    print(sess.run(roundd))\n",
        "    print(sess.run(rintt))\n",
        "    print(sess.run(ceill))\n",
        "    print(sess.run(floorr))\n",
        "    print(sess.run(maximumm))\n",
        "    print(sess.run(minimumm))\n",
        "    print(sess.run(argmaxx))\n",
        "    print(sess.run(argminn))"
      ],
      "execution_count": 0,
      "outputs": [
        {
          "output_type": "stream",
          "text": [
            "[-6. -4.  4.  6.]\n",
            "[-6. -4.  4.  6.]\n",
            "[-6. -3.  4.  7.]\n",
            "[-6. -3.  4.  7.]\n",
            "6\n",
            "5\n",
            "3\n",
            "0\n"
          ],
          "name": "stdout"
        }
      ]
    },
    {
      "cell_type": "markdown",
      "metadata": {
        "id": "FkKuMcSlbxMy",
        "colab_type": "text"
      },
      "source": [
        "## 3) Rank and Shape of a Tensor\n",
        "The rank of a tf.Tensor object is its number of dimensions. Synonyms for rank include order or degree or n-dimension. Note that rank in TensorFlow is not the same as matrix rank in mathematics.\n",
        "\n"
      ]
    },
    {
      "cell_type": "markdown",
      "metadata": {
        "id": "-ypm8F_Eey07",
        "colab_type": "text"
      },
      "source": [
        "\n",
        "\n",
        "*  Rank 0 -> Scalar (Single Value)\n",
        "*  Rank 1 -> Vector (Array)\n",
        "*  Rank 2 -> Matrix (Table)\n",
        "*  Rank 3 -> 3-Tensor (cube of numbers)\n",
        "*  Rank n -> n-Tensor (you get the idea)\n",
        "\n",
        "\n",
        "\n"
      ]
    },
    {
      "cell_type": "code",
      "metadata": {
        "id": "M4WbGNCieudI",
        "colab_type": "code",
        "colab": {}
      },
      "source": [
        "## Rank 0 Tensors Examples \n",
        "mammal = tf.Variable(\"Elephant\", tf.string)\n",
        "ignition = tf.Variable(451, tf.int16)\n",
        "floating = tf.Variable(3.14159265359, tf.float64)\n",
        "its_complicated = tf.Variable(12.3 - 4.85j, tf.complex64)\n",
        "\n",
        "## Rank 1 Tensors Examples\n",
        "mystr = tf.Variable([\"Hello\"], tf.string)\n",
        "cool_numbers  = tf.Variable([3.14159, 2.71828], tf.float32)\n",
        "first_primes = tf.Variable([2, 3, 5, 7, 11], tf.int32)\n",
        "its_very_complicated = tf.Variable([12.3 - 4.85j, 7.5 - 6.23j], tf.complex64)\n",
        "\n",
        "## Rank 2 Tensors Examples \n",
        "mymat = tf.Variable([[7],[11]], tf.int16)\n",
        "myxor = tf.Variable([[False, True],[True, False]], tf.bool)\n",
        "linear_squares = tf.Variable([[4], [9], [16], [25]], tf.int32)\n",
        "squarish_squares = tf.Variable([ [4, 9], [16, 25] ], tf.int32)\n",
        "\n"
      ],
      "execution_count": 0,
      "outputs": []
    },
    {
      "cell_type": "code",
      "metadata": {
        "id": "l_Akr079qfax",
        "colab_type": "code",
        "colab": {}
      },
      "source": [
        "'''\n",
        "When you train a model, you use variables to hold and update parameters. Variables are in-memory buffers containing tensors. \n",
        "They must be explicitly initialized and can be saved to disk during and after training. \n",
        "You can later restore saved values to exercise or analyse the model.\n",
        "'''\n",
        "init_op = tf.initialize_all_variables()"
      ],
      "execution_count": 0,
      "outputs": []
    },
    {
      "cell_type": "code",
      "metadata": {
        "id": "SLbI4ulvg27b",
        "colab_type": "code",
        "colab": {
          "base_uri": "https://localhost:8080/",
          "height": 136
        },
        "outputId": "0c5e0d20-3bec-45a7-cc6a-167252bc473d"
      },
      "source": [
        "## tf.rank() is used to get the rank of the tensor\n",
        "sess = tf.Session()\n",
        "sess.run(init_op)\n",
        "print(sess.run(tf.rank(mammal)))\n",
        "print(sess.run(mammal))\n",
        "#print(sess.run(tf.rank(ignition)))\n",
        "#print(sess.run(tf.rank(floating)))\n",
        "#print(sess.run(tf.rank(its_complicated)))\n",
        "\n",
        "\n",
        "print(sess.run(tf.rank(mystr)))\n",
        "print(sess.run(mystr))\n",
        "#print(sess.run(tf.rank(cool_numbers)))\n",
        "#print(sess.run(tf.rank(first_primes)))\n",
        "#print(sess.run(tf.rank(its_very_complicated)))\n",
        "\n",
        "print(sess.run(tf.rank(mymat)))\n",
        "print(sess.run(mymat))\n",
        "#print(sess.run(tf.rank(myxor)))\n",
        "#print(sess.run(tf.rank(linear_squares)))\n",
        "#print(sess.run(tf.rank(squarish_squares)))\n",
        "sess.close()"
      ],
      "execution_count": 36,
      "outputs": [
        {
          "output_type": "stream",
          "text": [
            "0\n",
            "b'Elephant'\n",
            "1\n",
            "[b'Hello']\n",
            "2\n",
            "[[ 7]\n",
            " [11]]\n"
          ],
          "name": "stdout"
        }
      ]
    },
    {
      "cell_type": "markdown",
      "metadata": {
        "id": "XnU-GbdTrC1k",
        "colab_type": "text"
      },
      "source": [
        "## Shape of a tensor\n",
        "The shape is the number of elements in each dimension, e.g.: \n",
        ", a vector has rank 1 and a shape of \n",
        "\n",
        "*   a scalar has a rank 0 and an empty shape ()\n",
        "*   a vector has rank 1 and a shape of (X)\n",
        "*   a matrix has rank 2 and a shape of (X, Y) and so on.\n",
        "\n",
        "## A tensor can have maximun of 8 dimensions.![alt text](https://www.guru99.com/images/1/080418_1250_WhatisaTens2.png)"
      ]
    },
    {
      "cell_type": "code",
      "metadata": {
        "id": "cKhmTc22iWs4",
        "colab_type": "code",
        "colab": {
          "base_uri": "https://localhost:8080/",
          "height": 85
        },
        "outputId": "212f12ab-a945-4a0c-f7d2-f84ff6cabdbd"
      },
      "source": [
        "## tf.shape() is used to get the shape of the tensor\n",
        "## RANK 0 \n",
        "x6 = tf.constant(56)  \n",
        "with tf.Session() as sess:\n",
        "  print(\"Shape of x6 :\", sess.run(tf.shape(x6)))\n",
        "  print(\"Rank of x6 is :\", sess.run(tf.rank(x6)))\n",
        "  print(sess.run(x6))\n",
        "  print(\"ITS A CONSTANT SO THE RANK AND SHAPE IS 0\")\n"
      ],
      "execution_count": 98,
      "outputs": [
        {
          "output_type": "stream",
          "text": [
            "Shape of x6 : []\n",
            "Rank of x6 is : 0\n",
            "56\n",
            "ITS A CONSTANT SO THE RANK AND SHAPE IS 0\n"
          ],
          "name": "stdout"
        }
      ]
    },
    {
      "cell_type": "code",
      "metadata": {
        "id": "r76eRpK9uVHE",
        "colab_type": "code",
        "colab": {
          "base_uri": "https://localhost:8080/",
          "height": 85
        },
        "outputId": "00543fa5-2b9a-4fb8-bd29-1600e3ed8422"
      },
      "source": [
        "## tf.shape() is used to get the shape of the tensor\n",
        "x7 = tf.constant([18,9])  \n",
        "with tf.Session() as sess:\n",
        "  print(\"Shape of x7:\", sess.run(tf.shape(x7)))\n",
        "  print(\"Rank of x7 is :\", sess.run(tf.rank(x7)))\n",
        "  print(sess.run(x7))\n",
        "  print(\"ITS A ARRAY WITH LENGTH 2, SO RANK IS 1 AND SHAPE(len of array) is 2\")\n"
      ],
      "execution_count": 112,
      "outputs": [
        {
          "output_type": "stream",
          "text": [
            "Shape of x7: [2]\n",
            "Rank of x7 is : 1\n",
            "[18  9]\n",
            "ITS A ARRAY WITH LENGTH 2, SO RANK IS 1 AND SHAPE(len of array) is 2\n"
          ],
          "name": "stdout"
        }
      ]
    },
    {
      "cell_type": "code",
      "metadata": {
        "id": "hIj07syisg1o",
        "colab_type": "code",
        "colab": {
          "base_uri": "https://localhost:8080/",
          "height": 119
        },
        "outputId": "e13c23e8-56d3-4ccc-908e-a0c148b9e927"
      },
      "source": [
        "## tf.shape() is used to get the shape of the tensor\n",
        "x8 = tf.constant([ [1, 1],        \n",
        "                   [2, 2], \n",
        "                   [3, 3], \n",
        "                  ])  \n",
        "with tf.Session() as sess:\n",
        "  print(\"Shape of x8 (Rows and columns resp):\", sess.run(tf.shape(x8)))\n",
        "  print(\"Rank of x8 is :\", sess.run(tf.rank(x8)))\n",
        "  print(sess.run(x8))\n",
        "  print(\"ITS A MATRIX IS DIMENSIONS (ROWS AND COLUMNS) 3x2, SO THE RANK IS 2 AND SHAPE IS 3X2\")"
      ],
      "execution_count": 113,
      "outputs": [
        {
          "output_type": "stream",
          "text": [
            "Shape of x8 (Rows and columns resp): [3 2]\n",
            "Rank of x8 is : 2\n",
            "[[1 1]\n",
            " [2 2]\n",
            " [3 3]]\n",
            "ITS A MATRIX IS DIMENSIONS (ROWS AND COLUMNS) 3x2, SO THE RANK IS 2 AND SHAPE IS 3X2\n"
          ],
          "name": "stdout"
        }
      ]
    },
    {
      "cell_type": "code",
      "metadata": {
        "id": "r0_o_zH9uW3_",
        "colab_type": "code",
        "colab": {
          "base_uri": "https://localhost:8080/",
          "height": 68
        },
        "outputId": "1da40efc-76f6-4ad7-8613-cb11940f8682"
      },
      "source": [
        "## tf.shape() is used to get the shape of the tensor\n",
        "x9 = tf.constant([[[1, 1, 1, 1], \n",
        "                   [2, 2, 2, 2]], \n",
        "                  \n",
        "                  [[3, 3, 3, 3], \n",
        "                   [4, 4, 4, 4]]]) \n",
        "with tf.Session() as sess:\n",
        "  print(\"Shape of x9 (Rows and columns resp):\", sess.run(tf.shape(x9)))\n",
        "  print(\"Rank of x9 is :\", sess.run(tf.rank(x9)))\n",
        "  print(\"ITS A MULTIDIMENTIONAL ARRAY WITH RANK 3 AND SHAPE [2 2 3]\")"
      ],
      "execution_count": 114,
      "outputs": [
        {
          "output_type": "stream",
          "text": [
            "Shape of x9 (Rows and columns resp): [2 2 4]\n",
            "Rank of x9 is : 3\n",
            "ITS A MULTIDIMENTIONAL ARRAY WITH RANK 3 AND SHAPE [2 2 3]\n"
          ],
          "name": "stdout"
        }
      ]
    },
    {
      "cell_type": "markdown",
      "metadata": {
        "id": "qBY3bJwyxrNn",
        "colab_type": "text"
      },
      "source": [
        "## 4) Creating Tensors "
      ]
    },
    {
      "cell_type": "code",
      "metadata": {
        "id": "vzxP2kCAxqze",
        "colab_type": "code",
        "colab": {}
      },
      "source": [
        "x10 = tf.constant(25)           # Creats a constant tensor whose value cannot be change. Required parameters (value)\n",
        "x11 = tf.zeros([2, 2])          # Creats a 2x2 matrix of all zeros. Required parameters (shape)\n",
        "x12 = tf.ones([3, 2])           # Creats a 3x2 matrix of all onces. Required parameters (shape)\n",
        "x13 = tf.fill([2, 3], 99)       # Creats a 2x3 matrix with all value = 99. Required parameters (shape, value)\n",
        "x14 = tf.linspace(2.,10.,5)     # Creats a tensor containing a linear range of values. It only takes float as input and returns and 1x5 dim tensor. Required parameters (start, stop, num)\n",
        "x15 = tf.range(10,50,delta=5)   # Creats a range of values with increment = value of delta, same as range in pyhton. Required parameters (start limit, delta)"
      ],
      "execution_count": 0,
      "outputs": []
    },
    {
      "cell_type": "code",
      "metadata": {
        "id": "p6ziNZaBvkDT",
        "colab_type": "code",
        "colab": {
          "base_uri": "https://localhost:8080/",
          "height": 272
        },
        "outputId": "18e10bf5-485b-4bda-dcb9-b66d45d424bc"
      },
      "source": [
        "with tf.Session() as sess:\n",
        "  print(\"x10: \", sess.run(x10))    \n",
        "  print(\"\")\n",
        "  print(\"x11: \",sess.run(x11))\n",
        "  print(\"\")\n",
        "  print(\"x12: \",sess.run(x12))\n",
        "  print(\"\")\n",
        "  print(\"x13: \",sess.run(x13))\n",
        "  print(\"\")\n",
        "  print(\"x14: \",sess.run(x14))\n",
        "  print(\"\")\n",
        "  print(\"x15: \",sess.run(x15))"
      ],
      "execution_count": 103,
      "outputs": [
        {
          "output_type": "stream",
          "text": [
            "x10:  25\n",
            "\n",
            "x11:  [[0. 0.]\n",
            " [0. 0.]]\n",
            "\n",
            "x12:  [[1. 1.]\n",
            " [1. 1.]\n",
            " [1. 1.]]\n",
            "\n",
            "x13:  [[99 99 99]\n",
            " [99 99 99]]\n",
            "\n",
            "x14:  [ 2.  4.  6.  8. 10.]\n",
            "\n",
            "x15:  [10 15 20 25 30 35 40 45]\n"
          ],
          "name": "stdout"
        }
      ]
    },
    {
      "cell_type": "markdown",
      "metadata": {
        "id": "ElnQyLAN1sTy",
        "colab_type": "text"
      },
      "source": [
        "## 5) Creating Tensors with random values\n",
        "Many Tensorflow applications required tensors that contain random values instead\n",
        "of predetermined values. Tensorflow thus can also create normally distributed \n",
        "values using random_normal and truncate_normal funcations."
      ]
    },
    {
      "cell_type": "code",
      "metadata": {
        "id": "hac5LCl01sAv",
        "colab_type": "code",
        "colab": {}
      },
      "source": [
        "x16 = tf.random_normal([10], mean=0.0, stddev=1, name=\"random_normal_distribution\")\n",
        "# Random Normal funtion generates random values throughout the distribution with mean = 0 and standard diviation = 1\n",
        "# Required Parameters (shape,mean,stddev)\n",
        "\n",
        "x17 = tf.truncated_normal([10], mean=0.0, stddev=1, name=\"turncate_distribution\")\n",
        "# Truncate Normal funtion is same as random normal function except it removes the values which lies below and above two standard diviation. \n",
        "# Required Parameters (shape, mean, stddev)\n",
        "\n",
        "x18 = tf.random_uniform([10], minval=0, maxval=10, name=\"random_uniform_distribution\")\n",
        "# Creates a tensor with uniformaly distributed values between the min and max value.\n",
        "# Required Parameters (shape, minval, maxval)"
      ],
      "execution_count": 0,
      "outputs": []
    },
    {
      "cell_type": "code",
      "metadata": {
        "id": "KQRi7e0C0i1G",
        "colab_type": "code",
        "colab": {
          "base_uri": "https://localhost:8080/",
          "height": 153
        },
        "outputId": "13bd4d38-6505-453a-cacb-dce5200eeebe"
      },
      "source": [
        "with tf.Session() as sess:\n",
        "  print(\"x16 is: \",sess.run(x16))\n",
        "  print(\"\")\n",
        "  print(\"x17 is: \", sess.run(x16))\n",
        "  print(\"\")\n",
        "  print(\"x18 is: \", sess.run(x18))"
      ],
      "execution_count": 105,
      "outputs": [
        {
          "output_type": "stream",
          "text": [
            "x16 is:  [ 0.74015236 -0.01192029  0.6775065  -0.5043414   1.3114424   0.9628342\n",
            "  0.50447994  1.2245011   0.54537827 -0.39188775]\n",
            "\n",
            "x17 is:  [-0.89257866 -2.494001   -1.1363021   1.1996359  -2.575495    0.40620914\n",
            "  0.8251469  -1.2580467  -0.37902024 -2.170064  ]\n",
            "\n",
            "x18 is:  [2.4592078 6.1257944 6.430622  6.268289  9.446086  3.4997988 1.0594869\n",
            " 7.3587704 7.3711705 7.8041067]\n"
          ],
          "name": "stdout"
        }
      ]
    },
    {
      "cell_type": "markdown",
      "metadata": {
        "id": "WrTc8z3S5yMG",
        "colab_type": "text"
      },
      "source": [
        "## 6) Transforming Tensors "
      ]
    },
    {
      "cell_type": "code",
      "metadata": {
        "id": "i9Vv-ZW75x50",
        "colab_type": "code",
        "colab": {}
      },
      "source": [
        "'''\n",
        "We will use the follow tensors\n",
        "x6 = tf.constant(56)                  Rank: 0, Shape: 1\n",
        "\n",
        "x7 = tf.constant([18,9])              Rank: 1, Shape: 2\n",
        "\n",
        "x8 = tf.constant([ [1, 1],            Rank: 2, Shape: [3,2]\n",
        "                   [2, 2], \n",
        "                   [3, 3], \n",
        "                  ])  \n",
        "\n",
        "x9 = tf.constant([[[1, 1, 1, 1],      Rank: 3, Shape: [2, 2, 3]\n",
        "                   [2, 2, 2, 2]], \n",
        "                  \n",
        "                  [[3, 3, 3, 3], \n",
        "                   [4, 4, 4, 4]]]) \n",
        "'''"
      ],
      "execution_count": 0,
      "outputs": []
    },
    {
      "cell_type": "code",
      "metadata": {
        "id": "A5Rky9o84Y5v",
        "colab_type": "code",
        "colab": {
          "base_uri": "https://localhost:8080/",
          "height": 289
        },
        "outputId": "0d430509-5a4b-4621-88a4-c6cd991735b7"
      },
      "source": [
        "with tf.Session() as sess:\n",
        "  x19 = tf.cast(x6, tf.float32)           # Used to convert the data type of tensors. Req Parameter (tensor, dtype)\n",
        "  print(sess.run(x19))\n",
        "  print(\"\")\n",
        "  x20 = tf.reshape(x8, [1,6])             # Reshapes the tensors. It cannot remove any element, so it accepts the shape in which the product of the rows and columns is equal to the number of elements in the tensor.\n",
        "  print(sess.run(x20))\n",
        "  print(\"\")\n",
        "  x21 = tf.reshape(x9,[1,4,4])\n",
        "  print(sess.run(x21))\n",
        "  print(\"\")\n",
        "  x22 = tf.squeeze(x9)                    # Removes dimensions of size 1\n",
        "  print(sess.run(x22))\n",
        "  print(\"Shape of x22: \",sess.run(tf.shape(x22)))\n",
        "  print(\"\")\n",
        "  "
      ],
      "execution_count": 141,
      "outputs": [
        {
          "output_type": "stream",
          "text": [
            "56.0\n",
            "\n",
            "[[1 1 2 2 3 3]]\n",
            "\n",
            "[[[1 1 1 1]\n",
            "  [2 2 2 2]\n",
            "  [3 3 3 3]\n",
            "  [4 4 4 4]]]\n",
            "\n",
            "[[[1 1 1 1]\n",
            "  [2 2 2 2]]\n",
            "\n",
            " [[3 3 3 3]\n",
            "  [4 4 4 4]]]\n",
            "Shape of x22:  [2 2 4]\n",
            "\n"
          ],
          "name": "stdout"
        }
      ]
    },
    {
      "cell_type": "code",
      "metadata": {
        "id": "yDFHwF058bZO",
        "colab_type": "code",
        "colab": {
          "base_uri": "https://localhost:8080/",
          "height": 51
        },
        "outputId": "8e40a222-3fbc-406c-cdb1-e7392bdfd76c"
      },
      "source": [
        "# Lets discuss tf.reverse()\n",
        "# tf.reverse() reverses given dimensions of the tensor.\n",
        "# tf.reverse() is a bit complicated, required parameters are (tensor, axis),\n",
        "# The range of the axis is [-4,4). Means -4 is included but 4 is excluded. \n",
        "x23 = [[[[ 0,  1,  2,  3],\n",
        "                  [ 4,  5,  6,  7],\n",
        "                  [ 8,  9, 10, 11]],\n",
        "                 [[12, 13, 14, 15],\n",
        "                  [16, 17, 18, 19],\n",
        "                  [20, 21, 22, 23]]]]\n",
        "with tf.Session() as sess:\n",
        "  print(\"Rank of x23 is:\", sess.run(tf.rank(x23)))\n",
        "  print(\"Shape of x23 is: \", sess.run(tf.shape(x23)))"
      ],
      "execution_count": 161,
      "outputs": [
        {
          "output_type": "stream",
          "text": [
            "Rank of x23 is: 4\n",
            "Shape of x23 is:  [1 2 3 4]\n"
          ],
          "name": "stdout"
        }
      ]
    },
    {
      "cell_type": "code",
      "metadata": {
        "id": "d2ri7GRlGTeg",
        "colab_type": "code",
        "colab": {
          "base_uri": "https://localhost:8080/",
          "height": 136
        },
        "outputId": "29b47611-1ebb-4889-b4d5-d879b4e832cb"
      },
      "source": [
        "with tf.Session() as sess:\n",
        "  x24 = tf.reverse(x23,[0])\n",
        "  print(sess.run(x24))\n",
        "\n"
      ],
      "execution_count": 162,
      "outputs": [
        {
          "output_type": "stream",
          "text": [
            "[[[[ 0  1  2  3]\n",
            "   [ 4  5  6  7]\n",
            "   [ 8  9 10 11]]\n",
            "\n",
            "  [[12 13 14 15]\n",
            "   [16 17 18 19]\n",
            "   [20 21 22 23]]]]\n"
          ],
          "name": "stdout"
        }
      ]
    },
    {
      "cell_type": "code",
      "metadata": {
        "id": "CxTdc1YxW4Sz",
        "colab_type": "code",
        "colab": {
          "base_uri": "https://localhost:8080/",
          "height": 153
        },
        "outputId": "6c44ab35-2f80-4743-e887-7a73cada9e1a"
      },
      "source": [
        "# Lets Discuss tf.slice()\n",
        "# tf.slice() extracts a protion of a tensor\n",
        "# Required Parameters are (tensor, begin, size) where begin is the location from where the slicing will start (location is accoring to matrix in maths) and \n",
        "# The slice size is represented as a tensor shape, where size[i] is the number of elements of the 'i'th dimension of input_ that you want to slice. \n",
        "\n",
        "\n",
        "x26 = tf.constant(([[[1, 1, 1], [2, 2, 2]],\n",
        "                 [[3, 3, 3], [4, 4, 4]],\n",
        "                 [[5, 5, 5], [6, 6, 6]]]))\n",
        "with tf.Session() as sess:\n",
        "  print(\"Rank of x25: \", sess.run(tf.rank(x25)))\n",
        "  print(\"Shape of x25: \", sess.run(tf.shape(x25)))\n",
        "  print(\"\")\n",
        "  print(\"Slice1: \", sess.run(tf.slice(x26, [1, 0, 0], [1, 1, 3])))\n",
        "  print(\"\")\n",
        "  print(\"Slice2: \", sess.run(tf.slice(x26,[1, 0, 0], [2, 1, 3])))"
      ],
      "execution_count": 178,
      "outputs": [
        {
          "output_type": "stream",
          "text": [
            "Rank of x25:  4\n",
            "Shape of x25:  [0 0 3 2]\n",
            "\n",
            "Slice1:  [[[3 3 3]]]\n",
            "\n",
            "Slice2:  [[[3 3 3]]\n",
            "\n",
            " [[5 5 5]]]\n"
          ],
          "name": "stdout"
        }
      ]
    },
    {
      "cell_type": "code",
      "metadata": {
        "id": "gXSa-iPubVVn",
        "colab_type": "code",
        "colab": {
          "base_uri": "https://localhost:8080/",
          "height": 102
        },
        "outputId": "fecc0d35-90f7-4f62-872e-843b3c624dc8"
      },
      "source": [
        "# Some one simple examples of slicing..\n",
        "x27 = tf.constant([26,25,24,23,22,21,20])           # Simple Array\n",
        "x28 = tf.constant([[2,1,3],[5,6,4],[8,9,7]])        # Simple 3x3 Matrix\n",
        "with tf.Session() as sess:\n",
        "  print(sess.run(tf.rank(x27)),sess.run(tf.shape(x27)))\n",
        "  print(sess.run(tf.slice(x27,[3],[4])))\n",
        "  print(\"\")\n",
        "  print(sess.run(tf.slice(x28,[1,1],[2,2])))"
      ],
      "execution_count": 188,
      "outputs": [
        {
          "output_type": "stream",
          "text": [
            "1 [7]\n",
            "[23 22 21 20]\n",
            "\n",
            "[[6 4]\n",
            " [9 7]]\n"
          ],
          "name": "stdout"
        }
      ]
    },
    {
      "cell_type": "code",
      "metadata": {
        "id": "2ZZ5CIzos574",
        "colab_type": "code",
        "colab": {
          "base_uri": "https://localhost:8080/",
          "height": 68
        },
        "outputId": "cb1c4981-9d2d-400d-f618-1cfc0a8b7097"
      },
      "source": [
        "# Lets learn about tf.stack()\n",
        "# It combines a list of tensors into a tensor of greater rank\n",
        "'''\n",
        "Packs the list of tensors in values into a tensor with rank one higher than each tensor in values, by packing them along the axis dimension. \n",
        "Given a list of length N of tensors of shape (A, B, C);\n",
        "if axis == 0 then the output tensor will have the shape (N, A, B, C). \n",
        "if axis == 1 then the output tensor will have the shape (A, N, B, C). Etc.\n",
        "''' \n",
        "# Required parameters (tensors, axis=0)\n",
        "\n",
        "x29 = tf.constant([1,2,3])      # Rank and shape of x29,x30,x31 is 1 , [3]\n",
        "x30 = tf.constant([4,5,6])\n",
        "x31 = tf.constant([7,8,9])\n",
        "\n",
        "with tf.Session() as sess:\n",
        "  x32 = tf.stack([x29,x30,x31], axis=0)\n",
        "  print(sess.run(x32))\n",
        "\n",
        "# Thus, axis=0 will combine them row wise and axis=1 will combine them column wise.\n"
      ],
      "execution_count": 194,
      "outputs": [
        {
          "output_type": "stream",
          "text": [
            "[[1 2 3]\n",
            " [4 5 6]\n",
            " [7 8 9]]\n"
          ],
          "name": "stdout"
        }
      ]
    },
    {
      "cell_type": "code",
      "metadata": {
        "id": "-ehXyyT0vqWg",
        "colab_type": "code",
        "colab": {
          "base_uri": "https://localhost:8080/",
          "height": 34
        },
        "outputId": "6c2a22c4-7097-48db-da7c-13c12302ad70"
      },
      "source": [
        "# Next is obviously tf.unstack()\n",
        "# It splits a tensor into a list of tensors of lesser rank.\n",
        "# Required parameters (tensor, num=None,axis=0)\n",
        "\n",
        "'''\n",
        "Unpacks num tensors from value by chipping it along the axis dimension. \n",
        "If num is not specified (the default), it is inferred from value's shape. If value.shape[axis] is not known, ValueError is raised.\n",
        "For example, given a tensor of shape (A, B, C, D);\n",
        "If axis == 0 then the i'th tensor in output is the slice value[i, :, :, :] and each tensor in output will have shape (B, C, D). \n",
        "(Note that the dimension unpacked along is gone, unlike split).\n",
        "If axis == 1 then the i'th tensor in output is the slice value[:, i, :, :] and each tensor in output will have shape (A, C, D). Etc.\n",
        "'''\n",
        "\n",
        "with tf.Session() as sess:\n",
        "  x33 = tf.unstack(x32,axis=0)\n",
        "  print(sess.run(x33))"
      ],
      "execution_count": 201,
      "outputs": [
        {
          "output_type": "stream",
          "text": [
            "[array([1, 2, 3], dtype=int32), array([4, 5, 6], dtype=int32), array([7, 8, 9], dtype=int32)]\n"
          ],
          "name": "stdout"
        }
      ]
    },
    {
      "cell_type": "markdown",
      "metadata": {
        "id": "athUyzXgxam5",
        "colab_type": "text"
      },
      "source": [
        "## 7) Exponents and Logarithms"
      ]
    },
    {
      "cell_type": "code",
      "metadata": {
        "id": "uO_6e1rWxhM0",
        "colab_type": "code",
        "colab": {}
      },
      "source": [
        "''' I am just up all the functions availale to get a clear idea of what it is..\n",
        "I am not providing examples coz I believe you already have the idea as \n",
        "it is similar to that of provided in numpy\n",
        "'''\n",
        "\n",
        "# tf.square(x,name)                         Returns the square of the argument\n",
        "# tf.squared_difference(x,y,name)           Subtracts the first argument from the second and returns the square \n",
        "# sqrt(x,name)                              Returns the square root of the argument\n",
        "# rsqrt(x,name)                             Returns the reciprocal of the square root\n",
        "# pow(x,y,name)                             Returns element of the first tensor raised to the power of the element of the second tensor\n",
        "# exp(x,name)                               Returns the exponential function of the argument\n",
        "# expm1(x,name)                             Returns the exponential function of the argument minus one, exp(x) - 1\n",
        "# log(x,name)                               Returns the natural log of the argument\n",
        "# log1p(x,name)                             Return log(x+1)\n",
        "# erf(x,name)                               Returns the error function\n"
      ],
      "execution_count": 0,
      "outputs": []
    },
    {
      "cell_type": "markdown",
      "metadata": {
        "id": "eKyGouooz45Z",
        "colab_type": "text"
      },
      "source": [
        "## 8) Vector and Matrix Operation"
      ]
    },
    {
      "cell_type": "code",
      "metadata": {
        "id": "BiihEyr8z4kN",
        "colab_type": "code",
        "colab": {
          "base_uri": "https://localhost:8080/",
          "height": 374
        },
        "outputId": "972e1df1-e846-481a-8e22-f44ba466351f"
      },
      "source": [
        "'''\n",
        "We will use these tensors\n",
        "x29 = tf.constant([1,2,3])      # Rank and shape of x29,x30,x31 is 1 , [3]\n",
        "x30 = tf.constant([4,5,6])\n",
        "x31 = tf.constant([7,8,9])\n",
        "'''\n",
        "x40 = tf.constant([[1,2,3],[4,5,6],[7,8,9]])      # Simple 3x3 Matrix\n",
        "x41 = tf.constant([[9,8,7],[6,5,4],[3,2,1]])      # Simple 3x3 Matrix\n",
        "\n",
        "with tf.Session() as sess:\n",
        "\n",
        "  x34 = tf.tensordot(x29,x30,1)     # Returns the sum of products for the elements in the given axes. Req Parameters (a,b,axes)\n",
        "  print(\"Dot product of x29 and x30 is: \",sess.run(x34))\n",
        "  print(\"\")\n",
        "\n",
        "  \n",
        "  x35 = tf.cross(x30,x31)           # Returns the element wise cross product\n",
        "  print(\"Cross product of x30 and x31 is: \", sess.run(x35))\n",
        "  print(\"\")\n",
        "\n",
        "  \n",
        "  x36 = tf.diag([1,2,3,4])          # Returns a matrix with given diagonal value, others set to zero. Req parameter (array of values)\n",
        "  print(\"Matrix (x36) with given diagonal value is:\", sess.run(x36))\n",
        "  print(\"\")\n",
        "  \n",
        "  \n",
        "  x37 = tf.trace(x36)               # Return the sum of the diagonal values. Req Parameters (matrix tensor)\n",
        "  print(\"Sum of diagonal values of x36 is: \", sess.run(x37))\n",
        "  print(\"\")\n",
        "  \n",
        "  \n",
        "  x38 = tf.transpose(x36)           # Switches rows and columns. Req parameters (matrix tensor)\n",
        "  print(\"Transpose of x36 is: \", sess.run(x38))\n",
        "  print(\"\")\n",
        "  \n",
        "  \n",
        "  x39 = tf.matmul(x40,x41,transpose_a=False,transpose_b=False, adjoint_a=False, adjoint_b=False, a_is_sparse=False, b_is_sparse=False)          \n",
        "  # Returns the product of the two input matrices. Req Parameters (a,b)\n",
        "  # Can also calculate matrix multiplications with transposes and adjoints of both matrix\n",
        "  print(\"Matrix Multiplication of x40 and x41 is: \", sess.run(x39))\n",
        "  print(\"\")\n",
        "  \n",
        "  \n",
        "  x42 = tf.cast(x41,tf.float32)\n",
        "  #print(sess.run(x42))\n",
        "  \n",
        "  \n",
        "  x43 = tf.norm(x42,ord=1,axis=0,keep_dims=False)\n",
        "  print(\"Norm of x40\", sess.run(x43))\n",
        "  # tf.norm() returns the norm of the given axis of the input tensor with the specified order. \n",
        "  # ord: Order of the norm. Supported values are 'fro', 'euclidean', 1, 2, np.inf and any positive real number yielding the corresponding p-norm.\n",
        "\n",
        "  ''' \n",
        "  Other Function includes:\n",
        "  * tf.matrix_solve(A,b,adjoint=None,name)                   Returns the tensor x, such that Ax = b, where A is a matrix and b in a vector\n",
        "  * tf.qr(input,full_matrices=None,name)                     Return the eigenvectors and eigenvalues of the given matrix or matrices\n",
        "  * tf.scd(tensor,full_matrices=False,compute_uv=True)       Factors the matrix into a unitary matrix\n",
        "  '''"
      ],
      "execution_count": 238,
      "outputs": [
        {
          "output_type": "stream",
          "text": [
            "Dot product of x29 and x30 is:  32\n",
            "\n",
            "Cross product of x30 and x31 is:  [-3  6 -3]\n",
            "\n",
            "Matrix (x36) with given diagonal value is: [[1 0 0 0]\n",
            " [0 2 0 0]\n",
            " [0 0 3 0]\n",
            " [0 0 0 4]]\n",
            "\n",
            "Sum of diagonal values of x36 is:  10\n",
            "\n",
            "Transpose of x36 is:  [[1 0 0 0]\n",
            " [0 2 0 0]\n",
            " [0 0 3 0]\n",
            " [0 0 0 4]]\n",
            "\n",
            "Matrix Multiplication of x40 and x41 is:  [[ 30  24  18]\n",
            " [ 84  69  54]\n",
            " [138 114  90]]\n",
            "\n",
            "Norm of x40 [18. 15. 12.]\n"
          ],
          "name": "stdout"
        }
      ]
    },
    {
      "cell_type": "code",
      "metadata": {
        "id": "NiIm5HyZzyR7",
        "colab_type": "code",
        "colab": {}
      },
      "source": [
        ""
      ],
      "execution_count": 0,
      "outputs": []
    }
  ]
}